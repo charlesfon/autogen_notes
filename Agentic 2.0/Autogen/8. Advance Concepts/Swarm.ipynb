Agentic 2.0/Autogen/8. Advance Concepts/Swarm.ipynb
@@ -0,0 +1,139 @@
{
 "cells": [
  {
   "cell_type": "code",
   "execution_count": 1,
   "id": "c7440505",
   "metadata": {},
   "outputs": [],
   "source": [
    "from typing import Any, Dict, List\n",
    "\n",
    "from autogen_agentchat.agents import AssistantAgent\n",
    "from autogen_agentchat.conditions import HandoffTermination, TextMentionTermination\n",
    "from autogen_agentchat.messages import HandoffMessage\n",
    "from autogen_agentchat.teams import Swarm\n",
    "from autogen_agentchat.ui import Console\n",
    "from autogen_ext.models.openai import OpenAIChatCompletionClient\n"
   ]
  },
  {
   "cell_type": "code",
   "execution_count": 2,
   "id": "2817ed93",
   "metadata": {},
   "outputs": [],
   "source": [
    "def refund_flight (flight_PNR:str) ->str:\n",
    "    return f\"Refunded Flight with PNR {flight_PNR}\""
   ]
  },
  {
   "cell_type": "code",
   "execution_count": null,
   "id": "a9df9245",
   "metadata": {},
   "outputs": [],
   "source": [
    "api_key=None\n",
    "model_client = OpenAIChatCompletionClient(model='gpt-4o',api_key=api_key)"
   ]
  },
  {
   "cell_type": "code",
   "execution_count": 14,
   "id": "446a1edf",
   "metadata": {},
   "outputs": [],
   "source": [
    "travel_agent = AssistantAgent(\n",
    "    \"travel_agent\",\n",
    "    model_client=model_client,\n",
    "    handoffs=[\"flights_refunder\", \"user\"],\n",
    "    system_message=\"\"\"You are a travel agent.\n",
    "    The flights_refunder is in charge of refunding flights.\n",
    "    If you need information from the user, you must first send your message, then you can handoff to the user.\n",
    "    Use TERMINATE when the travel planning is complete.\"\"\",\n",
    ")"
   ]
  },
  {
   "cell_type": "code",
   "execution_count": null,
   "id": "a4527356",
   "metadata": {},
   "outputs": [],
   "source": [
    "flights_refunder = AssistantAgent(\n",
    "    \"flights_refunder\",\n",
    "    model_client=model_client,\n",
    "    handoffs=[\"travel_agent\", \"user\"],\n",
    "    tools=[refund_flight],\n",
    "    system_message=\"\"\"You are an agent specialized in refunding flights.\n",
    "    You only need flight PNR numbers to refund a flight.\n",
    "    You have the ability to refund a flight using the refund_flight tool.\n",
    "    If you need information from the user, you must first send your message, then you can handoff to the user.\n",
    "    When the transaction is complete, handoff to the travel agent to finalize.\"\"\",\n",
    ")"
   ]
  },
  {
   "cell_type": "code",
   "execution_count": null,
   "id": "84fc5bd3",
   "metadata": {},
   "outputs": [],
   "source": [
    "termination = HandoffTermination(target=\"user\") | TextMentionTermination(\"TERMINATE\")\n",
    "team = Swarm([travel_agent, flights_refunder], termination_condition=termination)\n"
   ]
  },
  {
   "cell_type": "code",
   "execution_count": null,
   "id": "265f26d6",
   "metadata": {},
   "outputs": [],
   "source": [
    "# if (isinstance(message, HandoffMessage))"
   ]
  },
  {
   "cell_type": "code",
   "execution_count": null,
   "id": "19365209",
   "metadata": {},
   "outputs": [],
   "source": [
    "task = ' I want to refund my flight'\n",
    "\n",
    "async def run_team_stream() -> None:\n",
    "\n",
    "    task_result = await Console(team.run_stream(task = task))\n",
    "\n",
    "    last_message = task_result.message[-1]"
   ]
  }
 ],
 "metadata": {
  "kernelspec": {
   "display_name": ".venv (3.12.9)",
   "language": "python",
   "name": "python3"
  },
  "language_info": {
   "codemirror_mode": {
    "name": "ipython",
    "version": 3
   },
   "file_extension": ".py",
   "mimetype": "text/x-python",
   "name": "python",
   "nbconvert_exporter": "python",
   "pygments_lexer": "ipython3",
   "version": "3.12.9"
  }
 },
 "nbformat": 4,
 "nbformat_minor": 5
